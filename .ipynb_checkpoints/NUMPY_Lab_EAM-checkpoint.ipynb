{
 "cells": [
  {
   "cell_type": "markdown",
   "id": "2a7a85f1",
   "metadata": {},
   "source": [
    "## 1. Import the NUMPY package under the name np."
   ]
  },
  {
   "cell_type": "code",
   "execution_count": 1,
   "id": "c3d71032",
   "metadata": {},
   "outputs": [],
   "source": [
    "import numpy as np"
   ]
  },
  {
   "cell_type": "markdown",
   "id": "562a2305",
   "metadata": {},
   "source": [
    "## 2. Print the NUMPY version and the configuration."
   ]
  },
  {
   "cell_type": "code",
   "execution_count": 2,
   "id": "fde59b82",
   "metadata": {},
   "outputs": [
    {
     "name": "stdout",
     "output_type": "stream",
     "text": [
      "1.26.1\n"
     ]
    }
   ],
   "source": [
    "print(np.__version__)"
   ]
  },
  {
   "cell_type": "markdown",
   "id": "09d2b19a",
   "metadata": {},
   "source": [
    "# 3. Generate a 2x3x5 3-dimensional array with random values. Assign the array to variable \"a\"\n",
    "# Challenge: there are at least three easy ways that use numpy to generate random arrays. How many ways can you find?\n"
   ]
  },
  {
   "cell_type": "code",
   "execution_count": 3,
   "id": "5b905f25",
   "metadata": {},
   "outputs": [
    {
     "name": "stdout",
     "output_type": "stream",
     "text": [
      "[[[0.60917796 0.43141935 0.53525857 0.65988704 0.96134855]\n",
      "  [0.77714623 0.05216559 0.50834007 0.31705165 0.66518564]\n",
      "  [0.69091228 0.28790455 0.54485428 0.59943447 0.63090079]]\n",
      "\n",
      " [[0.37296569 0.44494953 0.51363147 0.33884401 0.73466075]\n",
      "  [0.99080876 0.39791113 0.54957051 0.64611745 0.77262934]\n",
      "  [0.30622721 0.78706975 0.63955494 0.73071846 0.93011775]]]\n"
     ]
    }
   ],
   "source": [
    "a=np.random.random((2, 3, 5)) \n",
    "print (a)"
   ]
  },
  {
   "cell_type": "markdown",
   "id": "0462786b",
   "metadata": {},
   "source": [
    "## 5. Create a 5x2x3 3-dimensional array with all values equaling 1. Assign the array to variable \"b\""
   ]
  },
  {
   "cell_type": "code",
   "execution_count": 4,
   "id": "d1b3a719",
   "metadata": {},
   "outputs": [],
   "source": [
    "b= np.ones((5, 2, 3))"
   ]
  },
  {
   "cell_type": "markdown",
   "id": "293aeb83",
   "metadata": {},
   "source": [
    "## 6. Print b."
   ]
  },
  {
   "cell_type": "code",
   "execution_count": 5,
   "id": "aecbff91",
   "metadata": {
    "scrolled": true
   },
   "outputs": [
    {
     "name": "stdout",
     "output_type": "stream",
     "text": [
      "[[[1. 1. 1.]\n",
      "  [1. 1. 1.]]\n",
      "\n",
      " [[1. 1. 1.]\n",
      "  [1. 1. 1.]]\n",
      "\n",
      " [[1. 1. 1.]\n",
      "  [1. 1. 1.]]\n",
      "\n",
      " [[1. 1. 1.]\n",
      "  [1. 1. 1.]]\n",
      "\n",
      " [[1. 1. 1.]\n",
      "  [1. 1. 1.]]]\n"
     ]
    }
   ],
   "source": [
    "print (b)"
   ]
  },
  {
   "cell_type": "markdown",
   "id": "4578a104",
   "metadata": {},
   "source": [
    "## 7. Do a and b have the same size? How do you prove that in Python code?\n"
   ]
  },
  {
   "cell_type": "code",
   "execution_count": 6,
   "id": "15682ead",
   "metadata": {},
   "outputs": [
    {
     "name": "stdout",
     "output_type": "stream",
     "text": [
      "Tamaño a:  30\n",
      "Tamaño b:  30\n"
     ]
    }
   ],
   "source": [
    "tamaño_a = a.size\n",
    "tamaño_b = b.size\n",
    "\n",
    "print ('Tamaño a: ', tamaño_a)\n",
    "print ('Tamaño b: ', tamaño_b)\n"
   ]
  },
  {
   "cell_type": "markdown",
   "id": "1e2879e8",
   "metadata": {},
   "source": [
    "## 8. Are you able to add a and b? Why or why not?\n"
   ]
  },
  {
   "cell_type": "markdown",
   "id": "10d29c79",
   "metadata": {},
   "source": [
    "No. No tienen la misma estructura."
   ]
  },
  {
   "cell_type": "markdown",
   "id": "ae644732",
   "metadata": {},
   "source": [
    "## 9. Transpose b so that it has the same structure of a (i.e. become a 2x3x5 array). Assign the transposed array to varialbe \"c\"."
   ]
  },
  {
   "cell_type": "code",
   "execution_count": 7,
   "id": "9b362fd2",
   "metadata": {},
   "outputs": [
    {
     "name": "stdout",
     "output_type": "stream",
     "text": [
      "[[[1. 1. 1. 1. 1.]\n",
      "  [1. 1. 1. 1. 1.]\n",
      "  [1. 1. 1. 1. 1.]]\n",
      "\n",
      " [[1. 1. 1. 1. 1.]\n",
      "  [1. 1. 1. 1. 1.]\n",
      "  [1. 1. 1. 1. 1.]]]\n"
     ]
    }
   ],
   "source": [
    "c= b.transpose((1, 2, 0))\n",
    "\n",
    "\n",
    "print (c)"
   ]
  },
  {
   "cell_type": "markdown",
   "id": "0b8192ce",
   "metadata": {},
   "source": [
    "## 10. Try to add a and c. Now it should work. Assign the sum to varialbe \"d\". But why does it work now?\n",
    "\n",
    "Funcionan porque ahora tienen el mismo tamaño"
   ]
  },
  {
   "cell_type": "code",
   "execution_count": 8,
   "id": "ad65d23a",
   "metadata": {},
   "outputs": [
    {
     "name": "stdout",
     "output_type": "stream",
     "text": [
      "[[[1.60917796 1.43141935 1.53525857 1.65988704 1.96134855]\n",
      "  [1.77714623 1.05216559 1.50834007 1.31705165 1.66518564]\n",
      "  [1.69091228 1.28790455 1.54485428 1.59943447 1.63090079]]\n",
      "\n",
      " [[1.37296569 1.44494953 1.51363147 1.33884401 1.73466075]\n",
      "  [1.99080876 1.39791113 1.54957051 1.64611745 1.77262934]\n",
      "  [1.30622721 1.78706975 1.63955494 1.73071846 1.93011775]]]\n"
     ]
    }
   ],
   "source": [
    "d=a+c\n",
    "\n",
    "print (d)"
   ]
  },
  {
   "cell_type": "markdown",
   "id": "f38b5e6a",
   "metadata": {},
   "source": [
    "## 11. Print a and d. Notice the difference and relation of the two array in terms of the values? Explain.\n"
   ]
  },
  {
   "cell_type": "code",
   "execution_count": 9,
   "id": "39bdee3d",
   "metadata": {},
   "outputs": [
    {
     "name": "stdout",
     "output_type": "stream",
     "text": [
      "Matriz a:\n",
      " [[[0.60917796 0.43141935 0.53525857 0.65988704 0.96134855]\n",
      "  [0.77714623 0.05216559 0.50834007 0.31705165 0.66518564]\n",
      "  [0.69091228 0.28790455 0.54485428 0.59943447 0.63090079]]\n",
      "\n",
      " [[0.37296569 0.44494953 0.51363147 0.33884401 0.73466075]\n",
      "  [0.99080876 0.39791113 0.54957051 0.64611745 0.77262934]\n",
      "  [0.30622721 0.78706975 0.63955494 0.73071846 0.93011775]]]\n",
      "-------------------\n",
      "Matriz d:\n",
      " [[[1.60917796 1.43141935 1.53525857 1.65988704 1.96134855]\n",
      "  [1.77714623 1.05216559 1.50834007 1.31705165 1.66518564]\n",
      "  [1.69091228 1.28790455 1.54485428 1.59943447 1.63090079]]\n",
      "\n",
      " [[1.37296569 1.44494953 1.51363147 1.33884401 1.73466075]\n",
      "  [1.99080876 1.39791113 1.54957051 1.64611745 1.77262934]\n",
      "  [1.30622721 1.78706975 1.63955494 1.73071846 1.93011775]]]\n",
      "\n",
      "A la matriz d se le ha sumado 1\n"
     ]
    }
   ],
   "source": [
    "print ('Matriz a:\\n', (a))\n",
    "print ('-------------------')\n",
    "print ('Matriz d:\\n', (d))\n",
    "print ('')\n",
    "print ('A la matriz d se le ha sumado 1')"
   ]
  },
  {
   "cell_type": "markdown",
   "id": "19b62095",
   "metadata": {},
   "source": [
    "## 12. Multiply a and c. Assign the result to e."
   ]
  },
  {
   "cell_type": "code",
   "execution_count": 10,
   "id": "73c98877",
   "metadata": {},
   "outputs": [
    {
     "name": "stdout",
     "output_type": "stream",
     "text": [
      "[[[0.60917796 0.43141935 0.53525857 0.65988704 0.96134855]\n",
      "  [0.77714623 0.05216559 0.50834007 0.31705165 0.66518564]\n",
      "  [0.69091228 0.28790455 0.54485428 0.59943447 0.63090079]]\n",
      "\n",
      " [[0.37296569 0.44494953 0.51363147 0.33884401 0.73466075]\n",
      "  [0.99080876 0.39791113 0.54957051 0.64611745 0.77262934]\n",
      "  [0.30622721 0.78706975 0.63955494 0.73071846 0.93011775]]]\n"
     ]
    }
   ],
   "source": [
    "e=a*c\n",
    "print(e)"
   ]
  },
  {
   "cell_type": "markdown",
   "id": "9c4630c1",
   "metadata": {},
   "source": [
    "## 13. Does e equal to a? Why or why not?\n"
   ]
  },
  {
   "cell_type": "code",
   "execution_count": 16,
   "id": "82ec7fe5",
   "metadata": {},
   "outputs": [],
   "source": [
    "#Si. Desconozco el motivo. "
   ]
  },
  {
   "cell_type": "markdown",
   "id": "15224d8f",
   "metadata": {},
   "source": [
    "## 14. Identify the max, min, and mean values in d. Assign those values to variables \"d_max\", \"d_min\", and \"d_mean\"\n"
   ]
  },
  {
   "cell_type": "code",
   "execution_count": 12,
   "id": "b619f1e9",
   "metadata": {},
   "outputs": [
    {
     "name": "stdout",
     "output_type": "stream",
     "text": [
      "1.9908087632794809\n",
      "1.0521655935365477\n",
      "1.5808921254579569\n"
     ]
    }
   ],
   "source": [
    "d.max()\n",
    "d.min()\n",
    "d.mean()\n",
    "\n",
    "print(d.max())\n",
    "print (d.min())\n",
    "print (d.mean())"
   ]
  },
  {
   "cell_type": "markdown",
   "id": "097fc78a",
   "metadata": {},
   "source": [
    "## 15. Now we want to label the values in d. First create an empty array \"f\" with the same shape (i.e. 2x3x5) as d using `np.empty`."
   ]
  },
  {
   "cell_type": "code",
   "execution_count": 13,
   "id": "df0415e1",
   "metadata": {},
   "outputs": [
    {
     "name": "stdout",
     "output_type": "stream",
     "text": [
      "[[[0.60917796 0.43141935 0.53525857 0.65988704 0.96134855]\n",
      "  [0.77714623 0.05216559 0.50834007 0.31705165 0.66518564]\n",
      "  [0.69091228 0.28790455 0.54485428 0.59943447 0.63090079]]\n",
      "\n",
      " [[0.37296569 0.44494953 0.51363147 0.33884401 0.73466075]\n",
      "  [0.99080876 0.39791113 0.54957051 0.64611745 0.77262934]\n",
      "  [0.30622721 0.78706975 0.63955494 0.73071846 0.93011775]]]\n"
     ]
    }
   ],
   "source": [
    "f=np.empty((2, 3, 5)) \n",
    "print (f)"
   ]
  },
  {
   "cell_type": "markdown",
   "id": "f656e5a1",
   "metadata": {},
   "source": [
    "## 16. Populate the values in f. For each value in d, if it's larger than d_min but smaller than d_mean, assign 25 to the corresponding value in f.\n",
    "If a value in d is larger than d_mean but smaller than d_max, assign 75 to the corresponding value in f.\n",
    "If a value equals to d_mean, assign 50 to the corresponding value in f.\n",
    "Assign 0 to the corresponding value(s) in f for d_min in d.\n",
    "Assign 100 to the corresponding value(s) in f for d_max in d.\n",
    "In the end, f should have only the following values: 0, 25, 50, 75, and 100.\n",
    "Note: you don't have to use Numpy in this question."
   ]
  },
  {
   "cell_type": "code",
   "execution_count": 14,
   "id": "a9cc31fe",
   "metadata": {},
   "outputs": [],
   "source": [
    "d = d  \n",
    "d_min = min(d.flatten())\n",
    "d_max = max(d.flatten())\n",
    "d_mean = sum(d.flatten()) / len(d.flatten())\n",
    "\n",
    "shape = d.shape\n",
    "f = [[[] for _ in range(shape[1])] for _ in range(shape[0])]\n",
    "for i in range(shape[0]):\n",
    "    for j in range(shape[1]):\n",
    "        for k in range(shape[2]):\n",
    "            value = d[i][j][k]\n",
    "            if value == d_min:\n",
    "                f[i][j].append(0)\n",
    "            elif d_min < value < d_mean:\n",
    "                f[i][j].append(25)\n",
    "            elif value == d_mean:\n",
    "                f[i][j].append(50)\n",
    "            elif d_mean < value < d_max:\n",
    "                f[i][j].append(75)\n",
    "            elif value == d_max:\n",
    "                f[i][j].append(100)\n",
    "\n",
    "for i in range(shape[0]):\n",
    "    for j in range(shape[1]):\n",
    "        f[i][j] = np.array(f[i][j])\n",
    "\n",
    "f = np.array(f)\n",
    "\n",
    "#para quien lo corrija. La pregunta 16 está patrocinada por 'chat.gpt'"
   ]
  },
  {
   "cell_type": "markdown",
   "id": "87512f87",
   "metadata": {},
   "source": [
    "## 17. Print d and f. Do you have your expected f?\n"
   ]
  },
  {
   "cell_type": "code",
   "execution_count": 15,
   "id": "9598cc6b",
   "metadata": {},
   "outputs": [
    {
     "name": "stdout",
     "output_type": "stream",
     "text": [
      "[[[ 75  25  25  75  75]\n",
      "  [ 75   0  25  25  75]\n",
      "  [ 75  25  25  75  75]]\n",
      "\n",
      " [[ 25  25  25  25  75]\n",
      "  [100  25  25  75  75]\n",
      "  [ 25  75  75  75  75]]]\n"
     ]
    }
   ],
   "source": [
    "print(f)"
   ]
  }
 ],
 "metadata": {
  "kernelspec": {
   "display_name": "clase",
   "language": "python",
   "name": "clase"
  },
  "language_info": {
   "codemirror_mode": {
    "name": "ipython",
    "version": 3
   },
   "file_extension": ".py",
   "mimetype": "text/x-python",
   "name": "python",
   "nbconvert_exporter": "python",
   "pygments_lexer": "ipython3",
   "version": "3.10.13"
  }
 },
 "nbformat": 4,
 "nbformat_minor": 5
}
